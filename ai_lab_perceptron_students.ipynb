{
 "cells": [
  {
   "cell_type": "markdown",
   "id": "retired-darkness",
   "metadata": {},
   "source": [
    "# Classification with the perceptron and logistic regression\n",
    "\n",
    "__Individual assignment__\n",
    "\n",
    "Author of the assignment: Pierre Nugues\n",
    "\n",
    "__Student name__: Anton Brkic, Thi Ngoc An Doan"
   ]
  },
  {
   "cell_type": "markdown",
   "id": "former-expense",
   "metadata": {},
   "source": [
    "## Objectives\n",
    "\n",
    "The objectives of this second assignment are to:\n",
    "\n",
    "1.  Write a linear regression program using gradient descent;\n",
    "2.  Write linear classifiers using the perceptron algorithm and logistic regression;\n",
    "3.  Experiment variations of the algorithms;\n",
    "4.  Evaluate your classifiers;\n",
    "5.  Experiment with popular tools;\n",
    "6.  Read a scientific article on optimization techniques and comment it;\n",
    "7.  Present your code, results, and comments in a short dissertation."
   ]
  },
  {
   "cell_type": "markdown",
   "id": "lasting-booking",
   "metadata": {},
   "source": [
    "## Overview\n",
    "\n",
    "The gradient descent is a basic technique to estimate the parameters of cost functions. \n",
    "1. You will first use the gradient descent method to implement linear regression. \n",
    "2. You will then program the perceptron algorithm. \n",
    "3. Finally, you will improve the threshold function with the logistic curve (logistic regression). \n",
    "\n",
    "You will try various configurations and study their influence on the learning speed and accuracy."
   ]
  },
  {
   "cell_type": "markdown",
   "id": "accredited-salad",
   "metadata": {},
   "source": [
    "##  Programming language\n",
    "As programming language, you will use Python and write your code in this notebook.\n",
    "\n",
    "You need to have a comprehensive Python distribution such as Anaconda (https://www.anaconda.com/products/individual). This distribution is available on the student computers at the computer science department.\n",
    "Finally, you start a notebook by typing:\n",
    "\n",
    "`jupyter lab`\n",
    "\n",
    "in a terminal window and you select the notebook by clicking on it in the left pane.\n",
    "You run the pieces of code by typing shift+enter. You can also use a programming tool like VS Code or PyCharm."
   ]
  },
  {
   "cell_type": "markdown",
   "id": "aerial-bedroom",
   "metadata": {},
   "source": [
    "## Imports\n",
    "Imports you may use"
   ]
  },
  {
   "cell_type": "code",
   "id": "complete-mileage",
   "metadata": {
    "ExecuteTime": {
     "end_time": "2025-03-09T21:38:49.605991Z",
     "start_time": "2025-03-09T21:38:49.603633Z"
    }
   },
   "source": [
    "import numpy as np\n",
    "import matplotlib.pyplot as plt\n",
    "from matplotlib import cm\n",
    "from mpl_toolkits.mplot3d import Axes3D"
   ],
   "outputs": [],
   "execution_count": 479
  },
  {
   "cell_type": "markdown",
   "id": "similar-stanford",
   "metadata": {},
   "source": [
    "## Linear Regression\n",
    "\n",
    "You will implement the gradient descent method as explained in pages 694-697 in Russell-Norvig (pp. 719--720 in the 3rd ed.) and in the slides to compute regression lines. You will implement the stochastic and batch versions of the algorithm.\n",
    "\n",
    "You must try to do it yourself first. If you encounter difficulties, you also have the solution to this exercise in the section _Solution to linear regression_ below. See: https://github.com/pnugues/edap01/tree/master/gradient_descent_practice"
   ]
  },
  {
   "cell_type": "markdown",
   "id": "included-privacy",
   "metadata": {},
   "source": [
    "### Your implementation of linear regression\n",
    "You will implement a regression program to predict the counts of _A_'s in a text from the total count of letters. You will apply it on two data sets corresponding to letter counts in the 15 chapters of the French and English versions of _Salammbô_, where the first column is the total count of characters and the second one, the count of A's. \n",
    "\n",
    "Start with either French or English and when your program ready, test it on the other language."
   ]
  },
  {
   "cell_type": "code",
   "id": "southern-representative",
   "metadata": {
    "ExecuteTime": {
     "end_time": "2025-03-09T21:38:50.475617Z",
     "start_time": "2025-03-09T21:38:50.472813Z"
    }
   },
   "source": [
    "stat_fr = np.array([[36961, 2503],\n",
    "                    [43621, 2992],\n",
    "                    [15694, 1042],\n",
    "                    [36231, 2487],\n",
    "                    [29945, 2014],\n",
    "                    [40588, 2805],\n",
    "                    [75255, 5062],\n",
    "                    [37709, 2643],\n",
    "                    [30899, 2126],\n",
    "                    [25486, 1784],\n",
    "                    [37497, 2641],\n",
    "                    [40398, 2766],\n",
    "                    [74105, 5047],\n",
    "                    [76725, 5312],\n",
    "                    [18317, 1215]])\n",
    "\n",
    "stat_en = np.array([[35680, 2217],\n",
    "                    [42514, 2761],\n",
    "                    [15162, 990],\n",
    "                    [35298, 2274],\n",
    "                    [29800, 1865],\n",
    "                    [40255, 2606],\n",
    "                    [74532, 4805],\n",
    "                    [37464, 2396],\n",
    "                    [31030, 1993],\n",
    "                    [24843, 1627],\n",
    "                    [36172, 2375],\n",
    "                    [39552, 2560],\n",
    "                    [72545, 4597],\n",
    "                    [75352, 4871],\n",
    "                    [18031, 1119]])"
   ],
   "outputs": [],
   "execution_count": 480
  },
  {
   "cell_type": "markdown",
   "id": "stuffed-albania",
   "metadata": {},
   "source": [
    "From the datasets above, tell what is ${X}$ and $\\mathbf{y}$. Extract:\n",
    "1. The ${X}$ matrix, where you will have a column to model the intercept;\n",
    "2. The $\\mathbf{y}$ vector\n",
    "\n",
    "from these arrays."
   ]
  },
  {
   "cell_type": "code",
   "id": "ultimate-remark",
   "metadata": {
    "ExecuteTime": {
     "end_time": "2025-03-09T21:38:51.360035Z",
     "start_time": "2025-03-09T21:38:51.356978Z"
    }
   },
   "source": [
    "# Write your code here\n",
    "\n",
    "# Step 1: Extract X and y\n",
    "# ---------------------------\n",
    "# For X, we take the first column (total characters)\n",
    "X_total = stat_fr[:, 0].reshape(-1, 1)\n",
    "# y is the second column (count of A's)\n",
    "y_count = stat_fr[:, 1]\n",
    "\n",
    "# Add an intercept column (column of ones) to X\n",
    "intercept = np.ones((X_total.shape[0], 1))\n",
    "X = np.hstack((intercept, X_total))\n",
    "\n",
    "print(\"X (with intercept, before scaling):\")\n",
    "print(X)\n",
    "print(\"\\ny (before scaling):\")\n",
    "print(y_count)"
   ],
   "outputs": [
    {
     "name": "stdout",
     "output_type": "stream",
     "text": [
      "X (with intercept, before scaling):\n",
      "[[1.0000e+00 3.6961e+04]\n",
      " [1.0000e+00 4.3621e+04]\n",
      " [1.0000e+00 1.5694e+04]\n",
      " [1.0000e+00 3.6231e+04]\n",
      " [1.0000e+00 2.9945e+04]\n",
      " [1.0000e+00 4.0588e+04]\n",
      " [1.0000e+00 7.5255e+04]\n",
      " [1.0000e+00 3.7709e+04]\n",
      " [1.0000e+00 3.0899e+04]\n",
      " [1.0000e+00 2.5486e+04]\n",
      " [1.0000e+00 3.7497e+04]\n",
      " [1.0000e+00 4.0398e+04]\n",
      " [1.0000e+00 7.4105e+04]\n",
      " [1.0000e+00 7.6725e+04]\n",
      " [1.0000e+00 1.8317e+04]]\n",
      "\n",
      "y (before scaling):\n",
      "[2503 2992 1042 2487 2014 2805 5062 2643 2126 1784 2641 2766 5047 5312\n",
      " 1215]\n"
     ]
    }
   ],
   "execution_count": 481
  },
  {
   "cell_type": "markdown",
   "id": "disabled-facing",
   "metadata": {},
   "source": [
    "Scale the arrays so that they fit in the range [0, 1] on the $x$ and $y$ axes. "
   ]
  },
  {
   "cell_type": "code",
   "id": "confidential-purple",
   "metadata": {
    "ExecuteTime": {
     "end_time": "2025-03-09T21:38:52.508523Z",
     "start_time": "2025-03-09T21:38:52.504968Z"
    }
   },
   "source": [
    "# Write your code here\n",
    "\n",
    "# Step 2: Scaling the data\n",
    "# ---------------------------\n",
    "# We scale the non-intercept feature and y to the range [0, 1] using min–max normalization.\n",
    "\n",
    "# Scale X_total (the feature column)\n",
    "X_min, X_max = X_total.min(), X_total.max()\n",
    "X_scaled_feature = (X_total - X_min) / (X_max - X_min)\n",
    "\n",
    "# Scale y_count\n",
    "y_min, y_max = y_count.min(), y_count.max()\n",
    "y_scaled = (y_count - y_min) / (y_max - y_min)\n",
    "\n",
    "# Re-create the X matrix with the intercept column and the scaled feature\n",
    "X_scaled = np.hstack((np.ones((X_scaled_feature.shape[0], 1)), X_scaled_feature))\n",
    "\n",
    "print(\"\\nX (after scaling):\")\n",
    "print(X_scaled)\n",
    "print(\"\\ny (after scaling):\")\n",
    "print(y_scaled)"
   ],
   "outputs": [
    {
     "name": "stdout",
     "output_type": "stream",
     "text": [
      "\n",
      "X (after scaling):\n",
      "[[1.         0.34846226]\n",
      " [1.         0.45758713]\n",
      " [1.         0.        ]\n",
      " [1.         0.33650112]\n",
      " [1.         0.23350428]\n",
      " [1.         0.40789107]\n",
      " [1.         0.97591388]\n",
      " [1.         0.36071832]\n",
      " [1.         0.24913569]\n",
      " [1.         0.16044305]\n",
      " [1.         0.35724468]\n",
      " [1.         0.4047779 ]\n",
      " [1.         0.957071  ]\n",
      " [1.         1.        ]\n",
      " [1.         0.04297816]]\n",
      "\n",
      "y (after scaling):\n",
      "[0.34215457 0.45667447 0.         0.33840749 0.22763466 0.41288056\n",
      " 0.94145199 0.37494145 0.25386417 0.17377049 0.37447307 0.40374707\n",
      " 0.93793911 1.         0.04051522]\n"
     ]
    }
   ],
   "execution_count": 482
  },
  {
   "cell_type": "markdown",
   "id": "herbal-valve",
   "metadata": {},
   "source": [
    "#### Gradient descent"
   ]
  },
  {
   "cell_type": "markdown",
   "id": "timely-anaheim",
   "metadata": {},
   "source": [
    "Implement the descent functions. You will pass `X`, `y`, the learning rate in the $\\alpha$ variable, the initial weight vector in `w`, the tolerance in the $\\epsilon$ variable, the maximal number of epochs in `epochs`. You will return `w`."
   ]
  },
  {
   "cell_type": "markdown",
   "id": "challenging-shopper",
   "metadata": {},
   "source": [
    "Batch descent"
   ]
  },
  {
   "cell_type": "code",
   "id": "impressive-thickness",
   "metadata": {
    "ExecuteTime": {
     "end_time": "2025-03-09T21:38:54.916410Z",
     "start_time": "2025-03-09T21:38:54.912821Z"
    }
   },
   "source": [
    "# Write your code here\n",
    "def fit_batch(X, y, alpha, w,\n",
    "                  epochs=500,\n",
    "                  epsilon=1.0e-5):\n",
    "    # YOUR CODE HERE\n",
    "    \"\"\"\n",
    "    Batch gradient descent for linear regression.\n",
    "\n",
    "    Parameters:\n",
    "        X : numpy.ndarray\n",
    "            The feature matrix with an intercept column.\n",
    "        y : numpy.ndarray\n",
    "            The target vector.\n",
    "        alpha : float\n",
    "            The learning rate.\n",
    "        w : numpy.ndarray\n",
    "            The initial weight vector.\n",
    "        epochs : int, optional\n",
    "            The maximum number of iterations (default is 500).\n",
    "        epsilon : float, optional\n",
    "            The tolerance for the change in weights to decide convergence.\n",
    "\n",
    "    Returns:\n",
    "        w : numpy.ndarray\n",
    "            The optimized weight vector.\n",
    "    \"\"\"\n",
    "    for epoch in range(epochs):\n",
    "        # Save current weights for convergence check.\n",
    "        w_old = w.copy()\n",
    "\n",
    "        # Compute predictions for all samples.\n",
    "        predictions = X.dot(w)\n",
    "\n",
    "        # Compute the error vector.\n",
    "        errors = y - predictions\n",
    "\n",
    "        # Compute the gradient of the cost function.\n",
    "        grad = -X.T.dot(errors)\n",
    "\n",
    "        # Update the weights.\n",
    "        w = w - alpha * grad\n",
    "\n",
    "        # Check convergence: stop if the change is less than epsilon.\n",
    "        if np.linalg.norm(w - w_old) < epsilon:\n",
    "            print(f\"Converged after {epoch+1} epochs (batch).\")\n",
    "            break\n",
    "\n",
    "    return w\n"
   ],
   "outputs": [],
   "execution_count": 483
  },
  {
   "cell_type": "markdown",
   "id": "arctic-tobacco",
   "metadata": {},
   "source": [
    "Stochastic descent"
   ]
  },
  {
   "cell_type": "code",
   "id": "improved-surrey",
   "metadata": {
    "ExecuteTime": {
     "end_time": "2025-03-09T21:38:56.762128Z",
     "start_time": "2025-03-09T21:38:56.758630Z"
    }
   },
   "source": [
    "# Write your code here\n",
    "def fit_stoch(X, y, alpha, w,\n",
    "                  epochs=500,\n",
    "                  epsilon=1.0e-5):\n",
    "    # YOUR CODE HERE\n",
    "    \"\"\"\n",
    "    Stochastic gradient descent for linear regression.\n",
    "\n",
    "    Parameters:\n",
    "        X : numpy.ndarray\n",
    "            The feature matrix with an intercept column.\n",
    "        y : numpy.ndarray\n",
    "            The target vector.\n",
    "        alpha : float\n",
    "            The learning rate.\n",
    "        w : numpy.ndarray\n",
    "            The initial weight vector.\n",
    "        epochs : int, optional\n",
    "            The maximum number of iterations (default is 500).\n",
    "        epsilon : float, optional\n",
    "            The tolerance for the change in weights at the end of an epoch.\n",
    "\n",
    "    Returns:\n",
    "        w : numpy.ndarray\n",
    "            The optimized weight vector.\n",
    "    \"\"\"\n",
    "    n_samples = X.shape[0]\n",
    "    for epoch in range(epochs):\n",
    "        # Save weights at the beginning of the epoch for convergence check.\n",
    "        w_old = w.copy()\n",
    "\n",
    "        # Loop through each sample (optionally, you could shuffle the data each epoch)\n",
    "        for i in range(n_samples):\n",
    "            xi = X[i]        # Single sample (with intercept)\n",
    "            yi = y[i]        # Corresponding target value\n",
    "\n",
    "            # Compute the prediction for the i-th sample.\n",
    "            prediction = np.dot(xi, w)\n",
    "\n",
    "            # Compute the error for the i-th sample.\n",
    "            error = yi - prediction\n",
    "\n",
    "            # Compute the gradient for the single sample.\n",
    "            grad = -xi * error\n",
    "\n",
    "            # Update the weights.\n",
    "            w = w - alpha * grad\n",
    "\n",
    "        # Check convergence: if the weight update is small, stop.\n",
    "        if np.linalg.norm(w - w_old) < epsilon:\n",
    "            print(f\"Converged after {epoch+1} epochs (stochastic).\")\n",
    "            break\n",
    "\n",
    "    return w"
   ],
   "outputs": [],
   "execution_count": 484
  },
  {
   "cell_type": "markdown",
   "id": "becoming-upset",
   "metadata": {},
   "source": [
    "#### Applying batch descent"
   ]
  },
  {
   "cell_type": "markdown",
   "id": "atomic-given",
   "metadata": {},
   "source": [
    "Apply the batch descent and print the final weight values "
   ]
  },
  {
   "cell_type": "code",
   "id": "equipped-consensus",
   "metadata": {
    "ExecuteTime": {
     "end_time": "2025-03-09T21:38:58.862734Z",
     "start_time": "2025-03-09T21:38:58.853870Z"
    }
   },
   "source": [
    "# Write your code here\n",
    "# Set Parameters and Initial Weights\n",
    "# ---------------------------\n",
    "alpha = 0.01  # Learning rate\n",
    "w_init = np.zeros(X_scaled.shape[1])  # Initial weights (2-dimensional vector)\n",
    "\n",
    "# ---------------------------\n",
    "# Applying Batch Descent\n",
    "# ---------------------------\n",
    "w_batch = fit_batch(X_scaled, y_scaled, alpha, w_init.copy(), epochs=500, epsilon=1.0e-5)\n",
    "print(\"Final weight values (batch):\", w_batch)"
   ],
   "outputs": [
    {
     "name": "stdout",
     "output_type": "stream",
     "text": [
      "Final weight values (batch): [0.01002235 0.97410072]\n"
     ]
    }
   ],
   "execution_count": 485
  },
  {
   "cell_type": "markdown",
   "id": "heavy-asbestos",
   "metadata": {},
   "source": [
    "Visualize the points of your dataset as well as the regression lines you obtain using matplotlib or another similar program."
   ]
  },
  {
   "cell_type": "code",
   "id": "variable-sphere",
   "metadata": {
    "ExecuteTime": {
     "end_time": "2025-03-09T21:39:00.615354Z",
     "start_time": "2025-03-09T21:39:00.549940Z"
    }
   },
   "source": [
    "# Write your code here\n",
    "\n",
    "# Visualization for batch descent\n",
    "plt.figure()\n",
    "plt.scatter(X_scaled[:, 1], y_scaled, label='Data Points')\n",
    "x_line = np.linspace(0, 1, 100)\n",
    "y_line_batch = w_batch[0] + w_batch[1] * x_line\n",
    "plt.plot(x_line, y_line_batch, label='Regression Line (Batch)')\n",
    "plt.xlabel(\"Scaled Total Characters\")\n",
    "plt.ylabel(\"Scaled Count of A's\")\n",
    "plt.title(\"Batch Gradient Descent Regression\")\n",
    "plt.legend()\n",
    "plt.show()"
   ],
   "outputs": [
    {
     "data": {
      "text/plain": [
       "<Figure size 640x480 with 1 Axes>"
      ],
      "image/png": "[encoded data removed]"
     },
     "metadata": {},
     "output_type": "display_data"
    }
   ],
   "execution_count": 486
  },
  {
   "cell_type": "markdown",
   "id": "higher-relations",
   "metadata": {},
   "source": [
    "#### Stochastic descent"
   ]
  },
  {
   "cell_type": "code",
   "id": "charged-memory",
   "metadata": {
    "ExecuteTime": {
     "end_time": "2025-03-09T21:39:02.578066Z",
     "start_time": "2025-03-09T21:39:02.549041Z"
    }
   },
   "source": [
    "# Write your code\n",
    "w_stoch = fit_stoch(X_scaled, y_scaled, alpha, w_init.copy(), epochs=500, epsilon=1.0e-5)\n",
    "print(\"Final weight values (stochastic):\", w_stoch)"
   ],
   "outputs": [
    {
     "name": "stdout",
     "output_type": "stream",
     "text": [
      "Final weight values (stochastic): [0.01015428 0.97417571]\n"
     ]
    }
   ],
   "execution_count": 487
  },
  {
   "cell_type": "markdown",
   "id": "dependent-concentration",
   "metadata": {},
   "source": [
    "Visualize the points of your dataset as well as the regression lines you obtain using matplotlib or another similar program."
   ]
  },
  {
   "cell_type": "code",
   "id": "specific-least",
   "metadata": {
    "ExecuteTime": {
     "end_time": "2025-03-09T21:39:04.137700Z",
     "start_time": "2025-03-09T21:39:04.077338Z"
    }
   },
   "source": [
    "# Write your code here\n",
    "# Visualization for stochastic descent\n",
    "plt.figure()\n",
    "plt.scatter(X_scaled[:, 1], y_scaled, label='Data Points')\n",
    "y_line_stoch = w_stoch[0] + w_stoch[1] * x_line\n",
    "plt.plot(x_line, y_line_stoch, label='Regression Line (Stochastic)')\n",
    "plt.xlabel(\"Scaled Total Characters\")\n",
    "plt.ylabel(\"Scaled Count of A's\")\n",
    "plt.title(\"Stochastic Gradient Descent Regression\")\n",
    "plt.legend()\n",
    "plt.show()"
   ],
   "outputs": [
    {
     "data": {
      "text/plain": [
       "<Figure size 640x480 with 1 Axes>"
      ],
      "image/png": "[encoded data removed]"
     },
     "metadata": {},
     "output_type": "display_data"
    }
   ],
   "execution_count": 488
  },
  {
   "cell_type": "markdown",
   "id": "sudden-collapse",
   "metadata": {},
   "source": [
    "### A solution to linear regression\n",
    "\n",
    "To help you start this assignment, your instructor wrote two Python notebooks that solve this exercise on linear regression. You can find them here: https://github.com/pnugues/edap01/tree/master/gradient_descent_practice\n",
    "\n",
    "2. The first notebook, `gradient_descent_numpy.ipynb`, uses Numpy. It is more compact, but you need to know a bit of numpy, for instance you multiply matrix `M` by matrix `N` with the operation `M @ N`\n",
    "1. The second notebook, `gradient_descent.ipynb`, only uses Python. The vector and matrix operations such as the dot product that are in the `vector.py` file. You can see how your instructor write the dot product or matrix multiplication operations so that there is no magic as with NumPy\n",
    "\n",
    "\n",
    "To run these programs, download them on your computer as well as the other program in the import list: vector.py\n",
    "\n",
    "The programs are also available as Python programs from\n",
    "https://github.com/pnugues/ilppp/tree/master/programs/ch04/python"
   ]
  },
  {
   "cell_type": "markdown",
   "id": "acoustic-register",
   "metadata": {},
   "source": [
    "## Classification\n",
    "You will use the same data set as for linear regression, but this time to classify a chapter as French or English. Given a pair of numbers corresponding the letter count and count of _A_, you will predict the language:\n",
    "1. $\\mathbf{x} = (35680, 2217)$ $\\to$ $y$ = English\n",
    "2. $\\mathbf{x} = (37497, 2641)$ $\\to$ $y$ = French"
   ]
  },
  {
   "cell_type": "markdown",
   "id": "surrounded-belgium",
   "metadata": {},
   "source": [
    "### The dataset\n",
    "You will use the arrays below:\n",
    "1. `X` contains the counts of letters and of _A_ s as well as a column of ones for the intercept;\n",
    "2. `y` contains the classes, where 0 is for English and 1 for French."
   ]
  },
  {
   "cell_type": "code",
   "id": "acceptable-coordination",
   "metadata": {
    "ExecuteTime": {
     "end_time": "2025-03-09T21:39:08.050249Z",
     "start_time": "2025-03-09T21:39:08.045863Z"
    }
   },
   "source": [
    "X = np.array([[1.0, 35680.0, 2217.0],\n",
    "              [1.0, 42514.0, 2761.0],\n",
    "              [1.0, 15162.0, 990.0],\n",
    "              [1.0, 35298.0, 2274.0],\n",
    "              [1.0, 29800.0, 1865.0],\n",
    "              [1.0, 40255.0, 2606.0],\n",
    "              [1.0, 74532.0, 4805.0],\n",
    "              [1.0, 37464.0, 2396.0],\n",
    "              [1.0, 31030.0, 1993.0],\n",
    "              [1.0, 24843.0, 1627.0],\n",
    "              [1.0, 36172.0, 2375.0],\n",
    "              [1.0, 39552.0, 2560.0],\n",
    "              [1.0, 72545.0, 4597.0],\n",
    "              [1.0, 75352.0, 4871.0],\n",
    "              [1.0, 18031.0, 1119.0],\n",
    "              [1.0, 36961.0, 2503.0],\n",
    "              [1.0, 43621.0, 2992.0],\n",
    "              [1.0, 15694.0, 1042.0],\n",
    "              [1.0, 36231.0, 2487.0],\n",
    "              [1.0, 29945.0, 2014.0],\n",
    "              [1.0, 40588.0, 2805.0],\n",
    "              [1.0, 75255.0, 5062.0],\n",
    "              [1.0, 37709.0, 2643.0],\n",
    "              [1.0, 30899.0, 2126.0],\n",
    "              [1.0, 25486.0, 1784.0],\n",
    "              [1.0, 37497.0, 2641.0],\n",
    "              [1.0, 40398.0, 2766.0],\n",
    "              [1.0, 74105.0, 5047.0],\n",
    "              [1.0, 76725.0, 5312.0],\n",
    "              [1.0, 18317.0, 1215.0]])\n",
    "y = np.array([0.0, 0.0, 0.0, 0.0, 0.0, 0.0, 0.0, 0.0, 0.0, 0.0, 0.0, 0.0, 0.0, 0.0, 0.0,\n",
    "              1.0, 1.0, 1.0, 1.0, 1.0, 1.0, 1.0, 1.0, 1.0, 1.0, 1.0, 1.0, 1.0, 1.0, 1.0])"
   ],
   "outputs": [],
   "execution_count": 489
  },
  {
   "cell_type": "markdown",
   "id": "collected-package",
   "metadata": {},
   "source": [
    "We visualize it"
   ]
  },
  {
   "cell_type": "code",
   "id": "sudden-making",
   "metadata": {
    "ExecuteTime": {
     "end_time": "2025-03-09T21:39:09.071826Z",
     "start_time": "2025-03-09T21:39:09.069224Z"
    }
   },
   "source": [
    "x_fr = [x[1] for i, x in enumerate(X) if y[i] == 1]\n",
    "y_fr = [x[2] for i, x in enumerate(X) if y[i] == 1]\n",
    "x_en = [x[1] for i, x in enumerate(X) if y[i] == 0]\n",
    "y_en = [x[2] for i, x in enumerate(X) if y[i] == 0]"
   ],
   "outputs": [],
   "execution_count": 490
  },
  {
   "cell_type": "code",
   "id": "selective-retrieval",
   "metadata": {
    "ExecuteTime": {
     "end_time": "2025-03-09T21:39:09.625222Z",
     "start_time": "2025-03-09T21:39:09.572967Z"
    }
   },
   "source": [
    "plt.scatter(x_fr, y_fr, color='red')\n",
    "plt.scatter(x_en, y_en, color='blue')"
   ],
   "outputs": [
    {
     "data": {
      "text/plain": [
       "<matplotlib.collections.PathCollection at 0x119b4ed50>"
      ]
     },
     "execution_count": 491,
     "metadata": {},
     "output_type": "execute_result"
    },
    {
     "data": {
      "text/plain": [
       "<Figure size 640x480 with 1 Axes>"
      ],
      "image/png": "[encoded data removed]"
     },
     "metadata": {},
     "output_type": "display_data"
    }
   ],
   "execution_count": 491
  },
  {
   "cell_type": "markdown",
   "id": "classified-chair",
   "metadata": {},
   "source": [
    "### Normalize the dataset"
   ]
  },
  {
   "cell_type": "markdown",
   "id": "norman-engagement",
   "metadata": {},
   "source": [
    "Gradient descent algorithms can be very sensitive to the range. Therefore, we normalize the dataset."
   ]
  },
  {
   "cell_type": "code",
   "id": "abroad-clothing",
   "metadata": {
    "ExecuteTime": {
     "end_time": "2025-03-09T21:39:11.904019Z",
     "start_time": "2025-03-09T21:39:11.901708Z"
    }
   },
   "source": [
    "def normalize(Xy):\n",
    "    maxima = np.amax(Xy, axis=0)\n",
    "    Xy = 1/maxima * Xy\n",
    "    return (Xy, maxima)"
   ],
   "outputs": [],
   "execution_count": 492
  },
  {
   "cell_type": "code",
   "id": "intellectual-arcade",
   "metadata": {
    "ExecuteTime": {
     "end_time": "2025-03-09T21:41:20.285033Z",
     "start_time": "2025-03-09T21:41:20.281473Z"
    }
   },
   "source": [
    "X_norm, maxima = normalize(X)\n",
    "X_norm"
   ],
   "outputs": [
    {
     "data": {
      "text/plain": [
       "array([[1.        , 0.46503747, 0.41735693],\n",
       "       [1.        , 0.55410883, 0.51976657],\n",
       "       [1.        , 0.19761486, 0.18637048],\n",
       "       [1.        , 0.46005865, 0.42808735],\n",
       "       [1.        , 0.38840013, 0.35109187],\n",
       "       [1.        , 0.52466601, 0.49058735],\n",
       "       [1.        , 0.9714174 , 0.90455572],\n",
       "       [1.        , 0.48828935, 0.45105422],\n",
       "       [1.        , 0.40443141, 0.37518825],\n",
       "       [1.        , 0.32379277, 0.30628765],\n",
       "       [1.        , 0.47144998, 0.4471009 ],\n",
       "       [1.        , 0.51550342, 0.48192771],\n",
       "       [1.        , 0.94551971, 0.8653991 ],\n",
       "       [1.        , 0.98210492, 0.91698042],\n",
       "       [1.        , 0.23500815, 0.21065512],\n",
       "       [1.        , 0.48173346, 0.47119729],\n",
       "       [1.        , 0.56853698, 0.56325301],\n",
       "       [1.        , 0.20454871, 0.19615964],\n",
       "       [1.        , 0.47221896, 0.46818524],\n",
       "       [1.        , 0.39029   , 0.37914157],\n",
       "       [1.        , 0.52900619, 0.5280497 ],\n",
       "       [1.        , 0.98084066, 0.95293675],\n",
       "       [1.        , 0.49148257, 0.49755271],\n",
       "       [1.        , 0.40272401, 0.4002259 ],\n",
       "       [1.        , 0.33217335, 0.33584337],\n",
       "       [1.        , 0.48871945, 0.4971762 ],\n",
       "       [1.        , 0.52652981, 0.52070783],\n",
       "       [1.        , 0.96585207, 0.95011295],\n",
       "       [1.        , 1.        , 1.        ],\n",
       "       [1.        , 0.23873574, 0.22872741]])"
      ]
     },
     "execution_count": 497,
     "metadata": {},
     "output_type": "execute_result"
    }
   ],
   "execution_count": 497
  },
  {
   "cell_type": "markdown",
   "id": "ancient-stewart",
   "metadata": {
    "tags": []
   },
   "source": [
    "## The Perceptron\n",
    "\n",
    "1. Write the perceptron program as explained in pages 700--702 in Russell-Norvig (pp. 723--725 in the 3rd ed.) and in the slides and run it on your data set. As suggested program structure, use two functions: \n",
    " * `fit(X, y)` that will return `w` (the model). You can choose a stochastic or batch variant;\n",
    " * `predict(X, w)` that will return `y_hat`. You can encapsulate these functions in a class and, of course, add more parameters.\n",
    "2. As a stop criterion, you will use the number of misclassified examples.\n",
    "3. You will report the parameters you have used and the weight vector\n",
    "\n",
    "You can use numpy or not. The next cells are just suggested steps. You can implement it your way."
   ]
  },
  {
   "cell_type": "markdown",
   "id": "worthy-singing",
   "metadata": {},
   "source": [
    "### The `predict(X, w)` function\n",
    "Write a `predict(X, w)` function that given a matrix of observations ${X}$ and a weight vector $\\mathbf{w}$ will return a $\\mathbf{\\hat{y}}$ vector classes (0 or 1)"
   ]
  },
  {
   "metadata": {
    "ExecuteTime": {
     "end_time": "2025-03-09T21:41:23.561545Z",
     "start_time": "2025-03-09T21:41:23.558322Z"
    }
   },
   "cell_type": "code",
   "source": [
    "# Write your code here\n",
    "def predict(X, w):\n",
    "    \"\"\"\n",
    "    Given a matrix of observations X and a weight vector w,\n",
    "    return a vector of predicted class labels (0 or 1) based on the perceptron rule.\n",
    "\n",
    "    Parameters:\n",
    "        X : numpy.ndarray\n",
    "            The matrix of observations. It should include an intercept column (typically a column of ones).\n",
    "        w : numpy.ndarray\n",
    "            The weight vector.\n",
    "\n",
    "    Returns:\n",
    "        y_hat : numpy.ndarray\n",
    "            The vector of predicted class labels (0 or 1).\n",
    "    \"\"\"\n",
    "    # Compute the dot product between each observation and the weight vector\n",
    "    dot_product = X.dot(w)\n",
    "\n",
    "    # Apply the threshold function: if dot_product >= 0, output 1; otherwise, output 0\n",
    "    y_hat = (dot_product >= 0).astype(int)\n",
    "\n",
    "    return y_hat"
   ],
   "id": "9ac647fc08a854dc",
   "outputs": [],
   "execution_count": 498
  },
  {
   "cell_type": "markdown",
   "id": "elementary-smoke",
   "metadata": {},
   "source": [
    "### The `fit(X, y)` function"
   ]
  },
  {
   "cell_type": "markdown",
   "id": "interior-voice",
   "metadata": {},
   "source": [
    "Write a `fit(X, y)` function that given a matrix of observations ${X}$ and a vector of responses $\\mathbf{y}$ will return a weight $\\mathbf{w}$ vector. You may use the other arguments of the function, notably the number of misclassified examples to define the stop condition."
   ]
  },
  {
   "metadata": {
    "ExecuteTime": {
     "end_time": "2025-03-09T21:41:30.189293Z",
     "start_time": "2025-03-09T21:41:30.185048Z"
    }
   },
   "cell_type": "code",
   "source": [
    "# Write your code here\n",
    "import random\n",
    "\n",
    "\n",
    "def fit_stoch(X, y,\n",
    "              epochs=1000,\n",
    "              max_misclassified=0,\n",
    "              verbose=True):\n",
    "    \"\"\"\n",
    "    Fit a perceptron model using stochastic updates.\n",
    "\n",
    "    During training, each time a weight update is performed,\n",
    "    the function prints the norm of the gradient update and the likelihood\n",
    "    (i.e. fraction of correctly classified examples) after the update.\n",
    "\n",
    "    Parameters:\n",
    "        X : numpy.ndarray\n",
    "            Matrix of observations (each row is an observation with an intercept column).\n",
    "        y : numpy.ndarray\n",
    "            True class labels (0 or 1).\n",
    "        epochs : int, optional\n",
    "            Maximum number of epochs (default 1000).\n",
    "        max_misclassified : int, optional\n",
    "            Stop condition: if the number of misclassified examples is less than or equal to this value.\n",
    "        verbose : bool, optional\n",
    "            If True, print progress messages.\n",
    "\n",
    "    Returns:\n",
    "        w : numpy.ndarray\n",
    "            The learned weight vector.\n",
    "    \"\"\"\n",
    "    w = np.zeros(X.shape[1])\n",
    "    n_samples = X.shape[0]\n",
    "    epoch_count = 0\n",
    "    learning_rate = 1.0e-4  # Adjust the learning rate as needed\n",
    "    final_misclassified = None\n",
    "\n",
    "    for epoch in range(epochs):\n",
    "        epoch_count += 1\n",
    "        misclassified = 0\n",
    "\n",
    "        # Shuffle indices for stochastic updates.\n",
    "        indices = list(range(n_samples))\n",
    "        random.shuffle(indices)\n",
    "\n",
    "        for i in indices:\n",
    "            x_i = X[i]  # current sample (including intercept)\n",
    "            y_i = y[i]  # true label for current sample\n",
    "\n",
    "            # Use the predict function on a single example.\n",
    "            prediction = predict(x_i.reshape(1, -1), w)[0]\n",
    "\n",
    "            if prediction != y_i:\n",
    "                # Update weights using the perceptron learning rule.\n",
    "                w = w + learning_rate * (y_i - prediction) * x_i\n",
    "                misclassified += 1\n",
    "\n",
    "        final_misclassified = misclassified\n",
    "        # Stop early if misclassified observations are within the threshold.\n",
    "        if misclassified <= max_misclassified:\n",
    "            break\n",
    "\n",
    "    if verbose:\n",
    "        print(f\"Misclassified observations {final_misclassified}\")\n",
    "        print(f\"epochs: {epoch_count}, weights: {w}:\")\n",
    "\n",
    "    return w"
   ],
   "id": "8237d57fa6c01afc",
   "outputs": [],
   "execution_count": 499
  },
  {
   "metadata": {},
   "cell_type": "markdown",
   "source": "### Fitting the dataset",
   "id": "2dfe39155f9ff2c1"
  },
  {
   "metadata": {
    "ExecuteTime": {
     "end_time": "2025-03-09T21:41:33.762276Z",
     "start_time": "2025-03-09T21:41:33.754506Z"
    }
   },
   "cell_type": "code",
   "source": [
    "w = fit_stoch(X_norm, y)\n",
    "w"
   ],
   "id": "7ed9ea117c14f314",
   "outputs": [
    {
     "name": "stdout",
     "output_type": "stream",
     "text": [
      "Misclassified observations 0\n",
      "epochs: 17, weights: [ 0.         -0.00020073  0.00020979]:\n"
     ]
    },
    {
     "data": {
      "text/plain": [
       "array([ 0.        , -0.00020073,  0.00020979])"
      ]
     },
     "execution_count": 500,
     "metadata": {},
     "output_type": "execute_result"
    }
   ],
   "execution_count": 500
  },
  {
   "cell_type": "code",
   "id": "racial-antarctica",
   "metadata": {
    "ExecuteTime": {
     "end_time": "2025-03-09T21:41:38.363647Z",
     "start_time": "2025-03-09T21:41:38.361038Z"
    }
   },
   "source": [
    "w = [w[i] * maxima[-1] / maxima[i] for i in range(len(w))]\n",
    "print(\"Restored weights\", w)\n",
    "w = [w[j] / w[-1] for j in range(len(w))]\n",
    "print(\"Weights with y set to 1\", w)"
   ],
   "outputs": [
    {
     "name": "stdout",
     "output_type": "stream",
     "text": [
      "Restored weights [np.float64(0.0), np.float64(-1.3897207855682941e-05), np.float64(0.00020978915662650573)]\n",
      "Weights with y set to 1 [np.float64(0.0), np.float64(-0.06624368999406666), np.float64(1.0)]\n"
     ]
    }
   ],
   "execution_count": 501
  },
  {
   "cell_type": "markdown",
   "id": "editorial-combination",
   "metadata": {},
   "source": [
    "### Visualizing the results"
   ]
  },
  {
   "cell_type": "code",
   "id": "alone-granny",
   "metadata": {
    "ExecuteTime": {
     "end_time": "2025-03-09T21:41:42.333504Z",
     "start_time": "2025-03-09T21:41:42.280689Z"
    }
   },
   "source": [
    "plt.scatter(x_fr, y_fr, color='red')\n",
    "plt.scatter(x_en, y_en, color='blue')\n",
    "plt.plot([min(x_fr + x_en), max(x_fr + x_en)],\n",
    "         [-w[1] * min(x_fr + x_en) - w[0], -w[1] * max(x_fr + x_en) - w[0]])"
   ],
   "outputs": [
    {
     "data": {
      "text/plain": [
       "[<matplotlib.lines.Line2D at 0x1198502d0>]"
      ]
     },
     "execution_count": 502,
     "metadata": {},
     "output_type": "execute_result"
    },
    {
     "data": {
      "text/plain": [
       "<Figure size 640x480 with 1 Axes>"
      ],
      "image/png": "[encoded data removed]"
     },
     "metadata": {},
     "output_type": "display_data"
    }
   ],
   "execution_count": 502
  },
  {
   "cell_type": "markdown",
   "id": "grateful-liberia",
   "metadata": {},
   "source": [
    "### Evaluation\n",
    "Evaluate your perceptron using the leave-one-out cross validation method. You will have to train and run 30 models. In each train/run session, you will train on 29 samples and evaluate on the remaining sample. You have then either a correct or a wrong classification. You will sum these classifications, i.e. the number of correct classifications, to get your final evaluation, for instance 29/30."
   ]
  },
  {
   "metadata": {
    "ExecuteTime": {
     "end_time": "2025-03-09T21:42:42.549593Z",
     "start_time": "2025-03-09T21:42:42.545373Z"
    }
   },
   "cell_type": "code",
   "source": [
    "# Write your code here\n",
    "import io\n",
    "import contextlib\n",
    "import re\n",
    "\n",
    "def leave_one_out_cross_val(X, y, fitting_function):\n",
    "    \"\"\"\n",
    "    Evaluate the perceptron model using leave-one-out cross validation.\n",
    "\n",
    "    For each fold, one sample is left out for testing while the model is trained\n",
    "    on the remaining samples using the provided fitting function.\n",
    "    The function prints the fold number, the number of epochs needed (extracted from the printed output\n",
    "    of the fitting function), the final weight vector, and whether the left-out sample was correctly classified.\n",
    "\n",
    "    Parameters:\n",
    "        X : numpy.ndarray\n",
    "            Matrix of observations.\n",
    "        y : numpy.ndarray\n",
    "            Vector of true class labels.\n",
    "        fitting_function : function\n",
    "            The function used to train the perceptron (e.g., fit_stoch).\n",
    "\n",
    "    Returns:\n",
    "        accuracy : float\n",
    "            The overall accuracy (fraction of correct classifications).\n",
    "    \"\"\"\n",
    "    score = 0\n",
    "    n_samples = len(y)\n",
    "\n",
    "    for fold in range(n_samples):\n",
    "        # Prepare training data (all samples except the one at index 'fold')\n",
    "        X_train = np.delete(X, fold, axis=0)\n",
    "        y_train = np.delete(y, fold)\n",
    "\n",
    "        # The left-out test sample\n",
    "        X_test = X[fold].reshape(1, -1)\n",
    "        y_test = y[fold]\n",
    "\n",
    "        # Capture the printed output from the fitting function.\n",
    "        f = io.StringIO()\n",
    "        with contextlib.redirect_stdout(f):\n",
    "            w = fitting_function(X_train, y_train, verbose=True)\n",
    "        output = f.getvalue()\n",
    "\n",
    "        # Parse the printed output to extract the epoch count.\n",
    "        # We assume that fit_stoch prints a line like:\n",
    "        # \"epochs: <epoch_count>, weights: ...\"\n",
    "        match = re.search(r\"epochs:\\s*(\\d+)\", output)\n",
    "        if match:\n",
    "            epoch_count = int(match.group(1))\n",
    "        else:\n",
    "            epoch_count = \"unknown\"\n",
    "\n",
    "        # Predict on the left-out sample.\n",
    "        y_pred = predict(X_test, w)[0]\n",
    "\n",
    "        if y_pred == y_test:\n",
    "            outcome = \"Correct.\"\n",
    "            score += 1\n",
    "        else:\n",
    "            outcome = \"Wrong.\"\n",
    "\n",
    "        print(f\"Fold {fold+1} on {n_samples}: epochs: {epoch_count}, weights: {w}: {outcome}\")\n",
    "\n",
    "    accuracy = score / n_samples\n",
    "    return accuracy"
   ],
   "id": "1da8ee8cfc71e116",
   "outputs": [],
   "execution_count": 503
  },
  {
   "metadata": {
    "ExecuteTime": {
     "end_time": "2025-03-09T21:42:44.830454Z",
     "start_time": "2025-03-09T21:42:44.756763Z"
    }
   },
   "cell_type": "code",
   "source": [
    "stoch_accuracy = leave_one_out_cross_val(X_norm, y, fit_stoch)\n",
    "print('Cross-validation accuracy (stochastic):', stoch_accuracy)"
   ],
   "id": "e6ba46031989df05",
   "outputs": [
    {
     "name": "stdout",
     "output_type": "stream",
     "text": [
      "Fold 1 on 30: epochs: 56, weights: [ 0.         -0.00059932  0.00062794]: Correct.\n",
      "Fold 2 on 30: epochs: 15, weights: [ 0.         -0.00017818  0.00018643]: Correct.\n",
      "Fold 3 on 30: epochs: 28, weights: [ 0.         -0.00031464  0.00032858]: Correct.\n",
      "Fold 4 on 30: epochs: 37, weights: [ 0.         -0.00044127  0.00046355]: Correct.\n",
      "Fold 5 on 30: epochs: 28, weights: [ 0.         -0.00033302  0.00035079]: Correct.\n",
      "Fold 6 on 30: epochs: 13, weights: [ 0.         -0.0001298   0.00013558]: Correct.\n",
      "Fold 7 on 30: epochs: 65, weights: [ 0.         -0.00077001  0.000807  ]: Correct.\n",
      "Fold 8 on 30: epochs: 12, weights: [ 0.         -0.00013141  0.00013827]: Correct.\n",
      "Fold 9 on 30: epochs: 46, weights: [ 0.         -0.00056132  0.00059132]: Correct.\n",
      "Fold 10 on 30: epochs: 9, weights: [ 0.         -0.00010723  0.00011271]: Correct.\n",
      "Fold 11 on 30: epochs: 20, weights: [ 0.         -0.0002376   0.00025107]: Wrong.\n",
      "Fold 12 on 30: epochs: 30, weights: [ 0.         -0.00034689  0.00036299]: Correct.\n",
      "Fold 13 on 30: epochs: 20, weights: [ 0.         -0.00021125  0.00022257]: Correct.\n",
      "Fold 14 on 30: epochs: 46, weights: [ 0.         -0.00048773  0.00051105]: Correct.\n",
      "Fold 15 on 30: epochs: 32, weights: [ 0.         -0.00036706  0.00038483]: Correct.\n",
      "Fold 16 on 30: epochs: 21, weights: [ 0.         -0.00021958  0.00023044]: Correct.\n",
      "Fold 17 on 30: epochs: 38, weights: [ 0.         -0.00041075  0.0004298 ]: Correct.\n",
      "Fold 18 on 30: epochs: 22, weights: [-2.71050543e-20 -2.80117302e-04  2.95124247e-04]: Correct.\n",
      "Fold 19 on 30: epochs: 58, weights: [ 0.         -0.00063271  0.0006613 ]: Correct.\n",
      "Fold 20 on 30: epochs: 40, weights: [ 0.         -0.00045648  0.00047922]: Correct.\n",
      "Fold 21 on 30: epochs: 26, weights: [ 0.         -0.00027697  0.00028929]: Correct.\n",
      "Fold 22 on 30: epochs: 21, weights: [ 0.         -0.00025522  0.00026687]: Correct.\n",
      "Fold 23 on 30: epochs: 56, weights: [ 0.         -0.00060499  0.00063759]: Correct.\n",
      "Fold 24 on 30: epochs: 23, weights: [ 0.         -0.00027432  0.00028825]: Correct.\n",
      "Fold 25 on 30: epochs: 39, weights: [ 0.         -0.00047196  0.00049541]: Correct.\n",
      "Fold 26 on 30: epochs: 49, weights: [ 0.         -0.00053578  0.00056316]: Correct.\n",
      "Fold 27 on 30: epochs: 12, weights: [ 0.         -0.00013648  0.00014256]: Correct.\n",
      "Fold 28 on 30: epochs: 32, weights: [ 0.         -0.00035817  0.00037743]: Correct.\n",
      "Fold 29 on 30: epochs: 23, weights: [ 0.         -0.00022756  0.00023983]: Correct.\n",
      "Fold 30 on 30: epochs: 48, weights: [ 0.         -0.00051439  0.0005397 ]: Correct.\n",
      "Cross-validation accuracy (stochastic): 0.9666666666666667\n"
     ]
    }
   ],
   "execution_count": 504
  },
  {
   "cell_type": "markdown",
   "id": "abandoned-saint",
   "metadata": {},
   "source": [
    "## Logistic Regression\n",
    "From your perceptron program, implement logistic regression. You can either follow the description from the slides or from the textbook, S. Russell and R. Norvig, _Artificial Intelligence_, 2022, pages 702--704 (pp. 725--727 in the 3rd ed.). Note that the textbook uses a criterion that is rejected by most practioners. You can either implement the stochastic or the batch version of the algorithm, or both versions. As stop criterion, you will use either the norm of the gradient or the norm of the difference between two consecutive weight vectors. You will also set a maximal number of epochs. Run the resulting program on your dataset."
   ]
  },
  {
   "cell_type": "markdown",
   "id": "treated-affiliation",
   "metadata": {},
   "source": [
    "Write the logistic function, where the $\\mathbf{x}$ input is a vector of real numbers."
   ]
  },
  {
   "cell_type": "code",
   "id": "composite-broadcast",
   "metadata": {
    "ExecuteTime": {
     "end_time": "2025-03-09T21:42:52.781794Z",
     "start_time": "2025-03-09T21:42:52.779283Z"
    }
   },
   "source": [
    "# Write your code here\n",
    "def logistic(x):\n",
    "    return 1 / (1 + np.exp(-x))"
   ],
   "outputs": [],
   "execution_count": 505
  },
  {
   "cell_type": "markdown",
   "id": "funded-violation",
   "metadata": {},
   "source": [
    "### The `predict(X, w)` function"
   ]
  },
  {
   "cell_type": "markdown",
   "id": "alleged-delaware",
   "metadata": {},
   "source": [
    "Write a `predict_proba()` function that given a matrix of observations ${X}$ and a weight vector $\\mathbf{w}$ will return a vector of probabilities to belong to class 1: The vector will consist of $P(1|\\mathbf{x}_i)$ for all the $i$ rows of ${X}$."
   ]
  },
  {
   "cell_type": "code",
   "id": "parental-winning",
   "metadata": {
    "ExecuteTime": {
     "end_time": "2025-03-09T21:42:54.717182Z",
     "start_time": "2025-03-09T21:42:54.715109Z"
    }
   },
   "source": [
    "# Write your code here\n",
    "def predict_proba(X, w):\n",
    "    return logistic(np.dot(X, w))"
   ],
   "outputs": [],
   "execution_count": 506
  },
  {
   "cell_type": "markdown",
   "id": "olive-equilibrium",
   "metadata": {},
   "source": [
    "Write a `predict(X, w)` function that given a matrix of observations ${X}$ and a weight vector $\\mathbf{w}$ will return the class. You will use `predict_proba()` and set the threshold to belong to class 1 to 0.5."
   ]
  },
  {
   "cell_type": "code",
   "id": "directed-freeze",
   "metadata": {
    "ExecuteTime": {
     "end_time": "2025-03-09T21:42:56.016686Z",
     "start_time": "2025-03-09T21:42:56.014209Z"
    }
   },
   "source": [
    "# Write your code here\n",
    "def predict(X, w):\n",
    "    return (predict_proba(X, w) >= 0.5).astype(int)"
   ],
   "outputs": [],
   "execution_count": 507
  },
  {
   "cell_type": "markdown",
   "id": "weird-replication",
   "metadata": {},
   "source": [
    "### The `fit(X, y)` function"
   ]
  },
  {
   "cell_type": "markdown",
   "id": "electric-bunny",
   "metadata": {},
   "source": [
    "You will now write the `fit(X, y)` function as with the perceptron. You may call it `fit_stoch(X, y)` or `fit_batch(X, y)`. Use the parameters given in the cell below."
   ]
  },
  {
   "cell_type": "code",
   "id": "forward-concentrate",
   "metadata": {
    "ExecuteTime": {
     "end_time": "2025-03-09T21:42:57.537996Z",
     "start_time": "2025-03-09T21:42:57.534833Z"
    }
   },
   "source": [
    "# Write your code here\n",
    "import random\n",
    "\n",
    "def fit_stoch(X, y, alpha=100, epochs=1000, epsilon=1.0e-4, verbose=False):\n",
    "    w = np.zeros(X.shape[1])\n",
    "    for epoch in range(epochs):\n",
    "        prev_w = np.copy(w)\n",
    "        for i in range(len(y)):\n",
    "            idx = random.randint(0, len(y) - 1)\n",
    "            xi, yi = X[idx], y[idx]\n",
    "            error = yi - predict_proba(xi, w)\n",
    "            w += alpha * error * xi\n",
    "        if np.linalg.norm(w - prev_w) < epsilon:\n",
    "            break\n",
    "    return w"
   ],
   "outputs": [],
   "execution_count": 508
  },
  {
   "cell_type": "code",
   "id": "presidential-adoption",
   "metadata": {
    "ExecuteTime": {
     "end_time": "2025-03-09T21:42:59.081070Z",
     "start_time": "2025-03-09T21:42:59.041678Z"
    }
   },
   "source": [
    "w = fit_stoch(X_norm, y, verbose=True)\n",
    "w"
   ],
   "outputs": [
    {
     "data": {
      "text/plain": [
       "array([  -35.47931039, -2906.50853546,  3106.4327982 ])"
      ]
     },
     "execution_count": 509,
     "metadata": {},
     "output_type": "execute_result"
    }
   ],
   "execution_count": 509
  },
  {
   "cell_type": "code",
   "id": "executed-history",
   "metadata": {
    "ExecuteTime": {
     "end_time": "2025-03-09T21:42:59.339489Z",
     "start_time": "2025-03-09T21:42:59.337358Z"
    }
   },
   "source": [
    "w = [w[i] / maxima[i] for i in range(len(w))]\n",
    "print(\"Restored weights\", w)\n",
    "w = [w[j] / w[-1] for j in range(len(w))]\n",
    "print(\"Weights with y set to 1\", w)"
   ],
   "outputs": [
    {
     "name": "stdout",
     "output_type": "stream",
     "text": [
      "Restored weights [np.float64(-35.47931038971324), np.float64(-0.03788215751662296), np.float64(0.5847953309868179)]\n",
      "Weights with y set to 1 [np.float64(-60.66961979645661), np.float64(-0.06477848831778187), np.float64(1.0)]\n"
     ]
    }
   ],
   "execution_count": 510
  },
  {
   "cell_type": "markdown",
   "id": "contemporary-correlation",
   "metadata": {},
   "source": [
    "### Visualizing the results"
   ]
  },
  {
   "cell_type": "code",
   "id": "headed-award",
   "metadata": {
    "ExecuteTime": {
     "end_time": "2025-03-09T21:43:03.028780Z",
     "start_time": "2025-03-09T21:43:02.985167Z"
    }
   },
   "source": [
    "plt.scatter(x_fr, y_fr, color='red')\n",
    "plt.scatter(x_en, y_en, color='blue')\n",
    "plt.plot([min(x_fr + x_en), max(x_fr + x_en)],\n",
    "         [-w[1] * min(x_fr + x_en) - w[0], -w[1] * max(x_fr + x_en) - w[0]])\n",
    "plt.show()"
   ],
   "outputs": [
    {
     "data": {
      "text/plain": [
       "<Figure size 640x480 with 1 Axes>"
      ],
      "image/png": "[encoded data removed]"
     },
     "metadata": {},
     "output_type": "display_data"
    }
   ],
   "execution_count": 511
  },
  {
   "cell_type": "markdown",
   "id": "exclusive-database",
   "metadata": {},
   "source": [
    "### Evaluation\n",
    "Evaluate your logistic regression using the leave-one-out cross validation method as with the perceptron"
   ]
  },
  {
   "cell_type": "code",
   "id": "indoor-truck",
   "metadata": {
    "ExecuteTime": {
     "end_time": "2025-03-09T21:43:04.789409Z",
     "start_time": "2025-03-09T21:43:04.787189Z"
    }
   },
   "source": [
    "# Write your code here\n",
    "def leave_one_out_cross_val(X, y, fitting_function):\n",
    "    score = 0\n",
    "    for i in range(len(y)):\n",
    "        X_train = np.delete(X, i, axis=0)\n",
    "        y_train = np.delete(y, i, axis=0)\n",
    "        X_test = X[i]\n",
    "        y_test = y[i]\n",
    "        w = fitting_function(X_train, y_train)\n",
    "        y_pred = predict(X_test.reshape(1, -1), w)\n",
    "        score += (y_pred == y_test)\n",
    "    return score / len(y)"
   ],
   "outputs": [],
   "execution_count": 512
  },
  {
   "cell_type": "code",
   "id": "strong-alaska",
   "metadata": {
    "ExecuteTime": {
     "end_time": "2025-03-09T21:43:06.162778Z",
     "start_time": "2025-03-09T21:43:05.882580Z"
    }
   },
   "source": [
    "stoch_accuracy = leave_one_out_cross_val(X, y, fit_stoch)\n",
    "print('Cross-validation accuracy (batch):', stoch_accuracy)"
   ],
   "outputs": [
    {
     "name": "stderr",
     "output_type": "stream",
     "text": [
      "/var/folders/bz/knysrty95f76wsxqv5jjlw0c0000gp/T/ipykernel_8967/1412568146.py:3: RuntimeWarning: overflow encountered in exp\n",
      "  return 1 / (1 + np.exp(-x))\n"
     ]
    },
    {
     "name": "stdout",
     "output_type": "stream",
     "text": [
      "Cross-validation accuracy (batch): [0.96666667]\n"
     ]
    }
   ],
   "execution_count": 513
  },
  {
   "cell_type": "markdown",
   "id": "incident-future",
   "metadata": {},
   "source": [
    "## Visualizing the logistic surface"
   ]
  },
  {
   "cell_type": "code",
   "id": "attached-occasion",
   "metadata": {
    "ExecuteTime": {
     "end_time": "2025-03-09T21:43:13.237237Z",
     "start_time": "2025-03-09T21:43:13.233961Z"
    }
   },
   "source": [
    "def plot_logistic_surf(x_range, y_range, w_opt):\n",
    "    x_axis, y_axis = np.meshgrid(x_range, y_range)\n",
    "\n",
    "    # We compute the probability surface as a function of x and y\n",
    "    # First generate the (1, x, y) tuples\n",
    "    grid = np.array([[[1.0, i, j] for j in y_range] for i in x_range])\n",
    "    # Then, compute logistic((1, x, y) . w_opt)\n",
    "    z_axis = logistic((grid @ w_opt))\n",
    "    return x_axis, y_axis, z_axis.T"
   ],
   "outputs": [],
   "execution_count": 514
  },
  {
   "cell_type": "code",
   "id": "harmful-identity",
   "metadata": {
    "ExecuteTime": {
     "end_time": "2025-03-09T21:43:16.858213Z",
     "start_time": "2025-03-09T21:43:14.599533Z"
    }
   },
   "source": [
    "x_range = np.linspace(0, 100000, 200)\n",
    "y_range = np.linspace(0, 10000, 200)\n",
    "# w = [2.073225839414742, -0.049125455233437906, 0.7440143556104162]\n",
    "\n",
    "x_axis, y_axis, z_axis = plot_logistic_surf(x_range, y_range, w)\n",
    "\n",
    "fig = plt.figure()\n",
    "ax = Axes3D(fig, auto_add_to_figure=False)\n",
    "fig.add_axes(ax)\n",
    "\n",
    "surf = ax.plot_surface(y_axis, x_axis, z_axis, rstride=1, cstride=1, cmap=cm.coolwarm,\n",
    "                       linewidth=0, antialiased=False, alpha=0.2)\n",
    "fig.colorbar(surf, shrink=0.5, aspect=5)\n",
    "# We plot the observations\n",
    "for x, y_class in zip(X, y):\n",
    "    if y_class == 1:\n",
    "        ax.scatter(x[2], x[1], y_class, color='green', marker='x')\n",
    "    else:\n",
    "        ax.scatter(x[2], x[1], y_class, color='red', marker='x')\n",
    "\n",
    "ax.elev = 30\n",
    "ax.azim = -150\n",
    "plt.show()"
   ],
   "outputs": [
    {
     "name": "stderr",
     "output_type": "stream",
     "text": [
      "/var/folders/bz/knysrty95f76wsxqv5jjlw0c0000gp/T/ipykernel_8967/1412568146.py:3: RuntimeWarning: overflow encountered in exp\n",
      "  return 1 / (1 + np.exp(-x))\n"
     ]
    },
    {
     "data": {
      "text/plain": [
       "<Figure size 640x480 with 2 Axes>"
      ],
      "image/png": "[encoded data removed]"
     },
     "metadata": {},
     "output_type": "display_data"
    }
   ],
   "execution_count": 515
  },
  {
   "cell_type": "markdown",
   "id": "internal-harassment",
   "metadata": {},
   "source": [
    "## Programming logistic regression with popular APIs\n",
    "Should you use logistic regression in a project, you will probably resort to existing libraries. In three separate notebooks, you will apply the logistic regression classification with three popular APIs:\n",
    "1. sklearn\n",
    "2. PyTorch\n",
    "3. Keras\n",
    "\n",
    "`sklearn` is included in anaconda.\n",
    "You will install the rest, ans possibly more, with:\n",
    "```\n",
    "pip2 install --upgrade keras \n",
    "pip3 install --upgrade torch\n",
    "```\n",
    "You will read and run the code in these three separate notebooks."
   ]
  },
  {
   "attachments": {},
   "cell_type": "markdown",
   "id": "promising-spring",
   "metadata": {},
   "source": [
    "## Reading\n",
    "You will read the article *An overview of gradient descent optimization algorithms* by Ruder (2017) and you will outline the main characteristics of all the optimization algorithms the author describes. This part should be of about one to two pages. Link to the article: https://arxiv.org/abs/1609.04747.\n",
    "\n",
    "You can also visualize the descents of the algorithm variants on Ruder's webpage: https://www.ruder.io/optimizing-gradient-descent/.\n",
    "\n",
    "If you understand French, or using Google translate, you may also want to read the original article on gradient descent by Cauchy here:  https://gallica.bnf.fr/ark:/12148/bpt6k2982c/f540.item.\n"
   ]
  },
  {
   "cell_type": "markdown",
   "id": "level-lodging",
   "metadata": {},
   "source": [
    "### Report\n",
    "\n",
    "The assignment must be documented in the report, which should contain the following:\n",
    "\n",
    "*   The name of the author, the title of the assignment, and any relevant information on the front page;\n",
    "*   A presentation of the assignment and the possible improvements you would have brought;\n",
    "*   A presentation of your implementation;\n",
    "*   A print-out of the example set(s) and the resulting weight vectors;\n",
    "*   Comments on the results you have obtained, including your cross validation;\n",
    "*   A short dissertation on the optimization algorithms from Ruder's paper.\n",
    "\n",
    "Please, typeset and format your report consistently. You must use Latex. Documents written using MS Word or any similar format will not be considered.\n",
    "\n",
    "You may have a look at the code in the textbook code repository (or any other implementations), but the code you hand in must be your work."
   ]
  },
  {
   "cell_type": "markdown",
   "id": "damaged-blackberry",
   "metadata": {},
   "source": [
    "## Submission\n",
    "Submit the notebook and the report to Canvas (two files). Do not include the code printout in the report, but only comments on its interesting parts. You will submit the notebook as a separate file."
   ]
  },
  {
   "cell_type": "code",
   "execution_count": null,
   "id": "adjacent-guarantee",
   "metadata": {},
   "outputs": [],
   "source": []
  }
 ],
 "metadata": {
  "kernelspec": {
   "display_name": "base",
   "language": "python",
   "name": "python3"
  },
  "language_info": {
   "codemirror_mode": {
    "name": "ipython",
    "version": 3
   },
   "file_extension": ".py",
   "mimetype": "text/x-python",
   "name": "python",
   "nbconvert_exporter": "python",
   "pygments_lexer": "ipython3",
   "version": "3.11.5"
  },
  "vscode": {
   "interpreter": {
    "hash": "b97b11a820675205aae8f1d7f2a3f22bbd3a2c30189f44042310baf5b4cd1987"
   }
  }
 },
 "nbformat": 4,
 "nbformat_minor": 5
}
